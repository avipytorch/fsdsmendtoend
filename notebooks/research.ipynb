{
 "cells": [
  {
   "cell_type": "code",
   "execution_count": null,
   "id": "a3f7bb16",
   "metadata": {},
   "outputs": [],
   "source": [
    "# ingest the data "
   ]
  }
 ],
 "metadata": {
  "kernelspec": {
   "display_name": "Python 3",
   "language": "python",
   "name": "python3"
  },
  "language_info": {
   "name": "python",
   "version": "3.8.20"
  }
 },
 "nbformat": 4,
 "nbformat_minor": 5
}
