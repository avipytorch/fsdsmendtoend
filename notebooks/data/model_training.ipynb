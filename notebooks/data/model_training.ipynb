{
 "cells": [
  {
   "cell_type": "code",
   "execution_count": 72,
   "id": "81bfba51",
   "metadata": {},
   "outputs": [],
   "source": [
    "import pandas as pd\n",
    "import numpy as np \n"
   ]
  },
  {
   "cell_type": "code",
   "execution_count": 73,
   "id": "ab766ef6",
   "metadata": {},
   "outputs": [],
   "source": [
    "data=pd.read_csv(\"../data/gemstone.csv\")"
   ]
  },
  {
   "cell_type": "code",
   "execution_count": 74,
   "id": "3f619a7c",
   "metadata": {},
   "outputs": [
    {
     "data": {
      "text/plain": [
       "Index(['id', 'carat', 'cut', 'color', 'clarity', 'depth', 'table', 'x', 'y',\n",
       "       'z', 'price'],\n",
       "      dtype='object')"
      ]
     },
     "execution_count": 74,
     "metadata": {},
     "output_type": "execute_result"
    }
   ],
   "source": [
    "data.columns"
   ]
  },
  {
   "cell_type": "code",
   "execution_count": 75,
   "id": "e5490f23",
   "metadata": {},
   "outputs": [],
   "source": [
    "data.drop(labels=[\"id\"], axis=1,inplace=True) "
   ]
  },
  {
   "cell_type": "code",
   "execution_count": 76,
   "id": "47f656ba",
   "metadata": {},
   "outputs": [
    {
     "data": {
      "text/plain": [
       "Index(['carat', 'cut', 'color', 'clarity', 'depth', 'table', 'x', 'y', 'z',\n",
       "       'price'],\n",
       "      dtype='object')"
      ]
     },
     "execution_count": 76,
     "metadata": {},
     "output_type": "execute_result"
    }
   ],
   "source": [
    "data.columns"
   ]
  },
  {
   "cell_type": "code",
   "execution_count": 77,
   "id": "c63aa9b9",
   "metadata": {},
   "outputs": [],
   "source": [
    "X=data.drop(labels=[\"price\"],axis=1)"
   ]
  },
  {
   "cell_type": "code",
   "execution_count": 78,
   "id": "8cc3c7ca",
   "metadata": {},
   "outputs": [
    {
     "data": {
      "text/html": [
       "<div>\n",
       "<style scoped>\n",
       "    .dataframe tbody tr th:only-of-type {\n",
       "        vertical-align: middle;\n",
       "    }\n",
       "\n",
       "    .dataframe tbody tr th {\n",
       "        vertical-align: top;\n",
       "    }\n",
       "\n",
       "    .dataframe thead th {\n",
       "        text-align: right;\n",
       "    }\n",
       "</style>\n",
       "<table border=\"1\" class=\"dataframe\">\n",
       "  <thead>\n",
       "    <tr style=\"text-align: right;\">\n",
       "      <th></th>\n",
       "      <th>price</th>\n",
       "    </tr>\n",
       "  </thead>\n",
       "  <tbody>\n",
       "    <tr>\n",
       "      <th>0</th>\n",
       "      <td>13619</td>\n",
       "    </tr>\n",
       "    <tr>\n",
       "      <th>1</th>\n",
       "      <td>13387</td>\n",
       "    </tr>\n",
       "    <tr>\n",
       "      <th>2</th>\n",
       "      <td>2772</td>\n",
       "    </tr>\n",
       "    <tr>\n",
       "      <th>3</th>\n",
       "      <td>666</td>\n",
       "    </tr>\n",
       "    <tr>\n",
       "      <th>4</th>\n",
       "      <td>14453</td>\n",
       "    </tr>\n",
       "    <tr>\n",
       "      <th>...</th>\n",
       "      <td>...</td>\n",
       "    </tr>\n",
       "    <tr>\n",
       "      <th>193568</th>\n",
       "      <td>1130</td>\n",
       "    </tr>\n",
       "    <tr>\n",
       "      <th>193569</th>\n",
       "      <td>2874</td>\n",
       "    </tr>\n",
       "    <tr>\n",
       "      <th>193570</th>\n",
       "      <td>3036</td>\n",
       "    </tr>\n",
       "    <tr>\n",
       "      <th>193571</th>\n",
       "      <td>681</td>\n",
       "    </tr>\n",
       "    <tr>\n",
       "      <th>193572</th>\n",
       "      <td>2258</td>\n",
       "    </tr>\n",
       "  </tbody>\n",
       "</table>\n",
       "<p>193573 rows × 1 columns</p>\n",
       "</div>"
      ],
      "text/plain": [
       "        price\n",
       "0       13619\n",
       "1       13387\n",
       "2        2772\n",
       "3         666\n",
       "4       14453\n",
       "...       ...\n",
       "193568   1130\n",
       "193569   2874\n",
       "193570   3036\n",
       "193571    681\n",
       "193572   2258\n",
       "\n",
       "[193573 rows x 1 columns]"
      ]
     },
     "execution_count": 78,
     "metadata": {},
     "output_type": "execute_result"
    }
   ],
   "source": [
    "y=data[[\"price\"]]\n",
    "y"
   ]
  },
  {
   "cell_type": "code",
   "execution_count": 94,
   "id": "e0ec8460",
   "metadata": {},
   "outputs": [],
   "source": [
    "numerical_cols = X.select_dtypes(exclude='object').columns\n"
   ]
  },
  {
   "cell_type": "code",
   "execution_count": 80,
   "id": "a0d387b9",
   "metadata": {},
   "outputs": [],
   "source": [
    "from sklearn.impute import SimpleImputer # handles missing values\n",
    "from sklearn.preprocessing import StandardScaler # handling feature scaling\n",
    "from sklearn.preprocessing import OrdinalEncoder # ordinal encoding\n",
    "##pipelines\n",
    "from sklearn.pipeline import Pipeline\n",
    "from sklearn.compose import ColumnTransformer"
   ]
  },
  {
   "cell_type": "code",
   "execution_count": 95,
   "id": "08f8e55a",
   "metadata": {},
   "outputs": [],
   "source": [
    "categorical_cols = X.select_dtypes(include='object').columns\n"
   ]
  },
  {
   "cell_type": "code",
   "execution_count": 82,
   "id": "bcd4766e",
   "metadata": {},
   "outputs": [
    {
     "data": {
      "text/plain": [
       "array(['Premium', 'Very Good', 'Ideal', 'Good', 'Fair'], dtype=object)"
      ]
     },
     "execution_count": 82,
     "metadata": {},
     "output_type": "execute_result"
    }
   ],
   "source": [
    "data[\"cut\"].unique()\n"
   ]
  },
  {
   "cell_type": "code",
   "execution_count": 83,
   "id": "59781657",
   "metadata": {},
   "outputs": [],
   "source": [
    "cut_categories=['Premium', 'Very Good', 'Ideal', 'Good', 'Fair']"
   ]
  },
  {
   "cell_type": "code",
   "execution_count": 84,
   "id": "4b477b98",
   "metadata": {},
   "outputs": [
    {
     "data": {
      "text/plain": [
       "array(['VS2', 'SI2', 'VS1', 'SI1', 'IF', 'VVS2', 'VVS1', 'I1'],\n",
       "      dtype=object)"
      ]
     },
     "execution_count": 84,
     "metadata": {},
     "output_type": "execute_result"
    }
   ],
   "source": [
    "data[\"clarity\"].unique()"
   ]
  },
  {
   "cell_type": "code",
   "execution_count": 85,
   "id": "92577be5",
   "metadata": {},
   "outputs": [],
   "source": [
    "clarity_categories=['VS2', 'SI2', 'VS1', 'SI1', 'IF', 'VVS2', 'VVS1', 'I1']"
   ]
  },
  {
   "cell_type": "code",
   "execution_count": 86,
   "id": "07714eaf",
   "metadata": {},
   "outputs": [
    {
     "data": {
      "text/plain": [
       "array(['F', 'J', 'G', 'E', 'D', 'H', 'I'], dtype=object)"
      ]
     },
     "execution_count": 86,
     "metadata": {},
     "output_type": "execute_result"
    }
   ],
   "source": [
    "data[\"color\"].unique()"
   ]
  },
  {
   "cell_type": "code",
   "execution_count": 87,
   "id": "3efac4c8",
   "metadata": {},
   "outputs": [],
   "source": [
    "color_categories=['F', 'J', 'G', 'E', 'D', 'H', 'I']"
   ]
  },
  {
   "cell_type": "code",
   "execution_count": 96,
   "id": "2eb9d88d",
   "metadata": {},
   "outputs": [],
   "source": [
    "num_pipeline=Pipeline(\n",
    "    \n",
    "    steps=[\n",
    "        \n",
    "        ('imputer',SimpleImputer()),\n",
    "        ('scaler',StandardScaler())\n",
    "    ]\n",
    "    \n",
    "    \n",
    "    \n",
    ")"
   ]
  },
  {
   "cell_type": "code",
   "execution_count": 89,
   "id": "7801c5ed",
   "metadata": {},
   "outputs": [],
   "source": [
    "cat_pipeline=Pipeline(\n",
    "    \n",
    "    steps=[\n",
    "        ('imputer',SimpleImputer(strategy='most_frequent')),\n",
    "        ('ordinalencoder',OrdinalEncoder(categories=[cut_categories,color_categories,clarity_categories]))\n",
    "    ]\n",
    ")"
   ]
  },
  {
   "cell_type": "code",
   "execution_count": 90,
   "id": "10af66b9",
   "metadata": {},
   "outputs": [],
   "source": [
    "preprocessor=ColumnTransformer(\n",
    "    \n",
    "    [\n",
    "        \n",
    "        ('num_pipeline',num_pipeline,numerical_cols),\n",
    "        ('cat_pipeline',cat_pipeline,categorical_cols)\n",
    "        \n",
    "    ]\n",
    ")"
   ]
  },
  {
   "cell_type": "code",
   "execution_count": 100,
   "id": "519c3907",
   "metadata": {},
   "outputs": [],
   "source": [
    "from sklearn.model_selection import train_test_split\n",
    "X_train,X_test,y_train,y_test=train_test_split(X,y,test_size=0.30, random_state=30)\n",
    "\n",
    "\n"
   ]
  },
  {
   "cell_type": "code",
   "execution_count": 101,
   "id": "e42ccbe9",
   "metadata": {},
   "outputs": [
    {
     "data": {
      "text/plain": [
       "array([[-0.97543926, -0.84960654, -0.12153081, ...,  2.        ,\n",
       "         6.        ,  5.        ],\n",
       "       [ 0.2351953 ,  1.83363716, -0.12153081, ...,  3.        ,\n",
       "         3.        ,  3.        ],\n",
       "       [ 0.49461699,  0.81585507,  0.39980029, ...,  0.        ,\n",
       "         2.        ,  2.        ],\n",
       "       ...,\n",
       "       [ 0.45138004,  1.55606023, -0.6428619 , ...,  3.        ,\n",
       "         2.        ,  3.        ],\n",
       "       [ 0.66756478, -1.77486298,  1.44246248, ...,  2.        ,\n",
       "         2.        ,  2.        ],\n",
       "       [ 0.25681377,  0.81585507, -0.12153081, ...,  2.        ,\n",
       "         2.        ,  3.        ]])"
      ]
     },
     "execution_count": 101,
     "metadata": {},
     "output_type": "execute_result"
    }
   ],
   "source": [
    "preprocessor.fit_transform(X_train)"
   ]
  },
  {
   "cell_type": "code",
   "execution_count": 102,
   "id": "0d9d3b64",
   "metadata": {},
   "outputs": [
    {
     "data": {
      "text/plain": [
       "array([[-0.97543926, -0.84960654, -0.12153081, ...,  2.        ,\n",
       "         6.        ,  5.        ],\n",
       "       [ 0.2351953 ,  1.83363716, -0.12153081, ...,  3.        ,\n",
       "         3.        ,  3.        ],\n",
       "       [ 0.49461699,  0.81585507,  0.39980029, ...,  0.        ,\n",
       "         2.        ,  2.        ],\n",
       "       ...,\n",
       "       [ 0.45138004,  1.55606023, -0.6428619 , ...,  3.        ,\n",
       "         2.        ,  3.        ],\n",
       "       [ 0.66756478, -1.77486298,  1.44246248, ...,  2.        ,\n",
       "         2.        ,  2.        ],\n",
       "       [ 0.25681377,  0.81585507, -0.12153081, ...,  2.        ,\n",
       "         2.        ,  3.        ]])"
      ]
     },
     "execution_count": 102,
     "metadata": {},
     "output_type": "execute_result"
    }
   ],
   "source": [
    "preprocessor.transform(X_train)"
   ]
  },
  {
   "cell_type": "code",
   "execution_count": 103,
   "id": "1a949936",
   "metadata": {},
   "outputs": [
    {
     "data": {
      "text/plain": [
       "array(['num_pipeline__carat', 'num_pipeline__depth',\n",
       "       'num_pipeline__table', 'num_pipeline__x', 'num_pipeline__y',\n",
       "       'num_pipeline__z', 'cat_pipeline__cut', 'cat_pipeline__color',\n",
       "       'cat_pipeline__clarity'], dtype=object)"
      ]
     },
     "execution_count": 103,
     "metadata": {},
     "output_type": "execute_result"
    }
   ],
   "source": [
    "preprocessor.get_feature_names_out()"
   ]
  },
  {
   "cell_type": "code",
   "execution_count": 104,
   "id": "ad71f3c1",
   "metadata": {},
   "outputs": [],
   "source": [
    "X_train=pd.DataFrame(preprocessor.fit_transform(X_train),columns=preprocessor.get_feature_names_out())\n",
    "X_test=pd.DataFrame(preprocessor.transform(X_test),columns=preprocessor.get_feature_names_out())"
   ]
  },
  {
   "cell_type": "code",
   "execution_count": 106,
   "id": "d6639488",
   "metadata": {},
   "outputs": [
    {
     "data": {
      "text/html": [
       "<div>\n",
       "<style scoped>\n",
       "    .dataframe tbody tr th:only-of-type {\n",
       "        vertical-align: middle;\n",
       "    }\n",
       "\n",
       "    .dataframe tbody tr th {\n",
       "        vertical-align: top;\n",
       "    }\n",
       "\n",
       "    .dataframe thead th {\n",
       "        text-align: right;\n",
       "    }\n",
       "</style>\n",
       "<table border=\"1\" class=\"dataframe\">\n",
       "  <thead>\n",
       "    <tr style=\"text-align: right;\">\n",
       "      <th></th>\n",
       "      <th>num_pipeline__carat</th>\n",
       "      <th>num_pipeline__depth</th>\n",
       "      <th>num_pipeline__table</th>\n",
       "      <th>num_pipeline__x</th>\n",
       "      <th>num_pipeline__y</th>\n",
       "      <th>num_pipeline__z</th>\n",
       "      <th>cat_pipeline__cut</th>\n",
       "      <th>cat_pipeline__color</th>\n",
       "      <th>cat_pipeline__clarity</th>\n",
       "    </tr>\n",
       "  </thead>\n",
       "  <tbody>\n",
       "    <tr>\n",
       "      <th>0</th>\n",
       "      <td>-0.975439</td>\n",
       "      <td>-0.849607</td>\n",
       "      <td>-0.121531</td>\n",
       "      <td>-1.042757</td>\n",
       "      <td>-1.080970</td>\n",
       "      <td>-1.123150</td>\n",
       "      <td>2.0</td>\n",
       "      <td>6.0</td>\n",
       "      <td>5.0</td>\n",
       "    </tr>\n",
       "    <tr>\n",
       "      <th>1</th>\n",
       "      <td>0.235195</td>\n",
       "      <td>1.833637</td>\n",
       "      <td>-0.121531</td>\n",
       "      <td>0.318447</td>\n",
       "      <td>0.279859</td>\n",
       "      <td>0.485354</td>\n",
       "      <td>3.0</td>\n",
       "      <td>3.0</td>\n",
       "      <td>3.0</td>\n",
       "    </tr>\n",
       "    <tr>\n",
       "      <th>2</th>\n",
       "      <td>0.494617</td>\n",
       "      <td>0.815855</td>\n",
       "      <td>0.399800</td>\n",
       "      <td>0.570855</td>\n",
       "      <td>0.606458</td>\n",
       "      <td>0.673737</td>\n",
       "      <td>0.0</td>\n",
       "      <td>2.0</td>\n",
       "      <td>2.0</td>\n",
       "    </tr>\n",
       "    <tr>\n",
       "      <th>3</th>\n",
       "      <td>-1.018676</td>\n",
       "      <td>0.260701</td>\n",
       "      <td>0.921131</td>\n",
       "      <td>-1.214034</td>\n",
       "      <td>-1.244270</td>\n",
       "      <td>-1.195605</td>\n",
       "      <td>0.0</td>\n",
       "      <td>2.0</td>\n",
       "      <td>0.0</td>\n",
       "    </tr>\n",
       "    <tr>\n",
       "      <th>4</th>\n",
       "      <td>-0.953821</td>\n",
       "      <td>-0.664555</td>\n",
       "      <td>-0.642862</td>\n",
       "      <td>-1.069801</td>\n",
       "      <td>-1.044681</td>\n",
       "      <td>-1.094168</td>\n",
       "      <td>2.0</td>\n",
       "      <td>1.0</td>\n",
       "      <td>5.0</td>\n",
       "    </tr>\n",
       "    <tr>\n",
       "      <th>...</th>\n",
       "      <td>...</td>\n",
       "      <td>...</td>\n",
       "      <td>...</td>\n",
       "      <td>...</td>\n",
       "      <td>...</td>\n",
       "      <td>...</td>\n",
       "      <td>...</td>\n",
       "      <td>...</td>\n",
       "      <td>...</td>\n",
       "    </tr>\n",
       "    <tr>\n",
       "      <th>135496</th>\n",
       "      <td>-1.040295</td>\n",
       "      <td>-0.016876</td>\n",
       "      <td>-0.642862</td>\n",
       "      <td>-1.268122</td>\n",
       "      <td>-1.244270</td>\n",
       "      <td>-1.239078</td>\n",
       "      <td>2.0</td>\n",
       "      <td>3.0</td>\n",
       "      <td>3.0</td>\n",
       "    </tr>\n",
       "    <tr>\n",
       "      <th>135497</th>\n",
       "      <td>0.991842</td>\n",
       "      <td>0.168176</td>\n",
       "      <td>-0.642862</td>\n",
       "      <td>1.048629</td>\n",
       "      <td>1.114501</td>\n",
       "      <td>1.079486</td>\n",
       "      <td>2.0</td>\n",
       "      <td>2.0</td>\n",
       "      <td>1.0</td>\n",
       "    </tr>\n",
       "    <tr>\n",
       "      <th>135498</th>\n",
       "      <td>0.451380</td>\n",
       "      <td>1.556060</td>\n",
       "      <td>-0.642862</td>\n",
       "      <td>0.516768</td>\n",
       "      <td>0.588314</td>\n",
       "      <td>0.702719</td>\n",
       "      <td>3.0</td>\n",
       "      <td>2.0</td>\n",
       "      <td>3.0</td>\n",
       "    </tr>\n",
       "    <tr>\n",
       "      <th>135499</th>\n",
       "      <td>0.667565</td>\n",
       "      <td>-1.774863</td>\n",
       "      <td>1.442462</td>\n",
       "      <td>0.868337</td>\n",
       "      <td>0.951202</td>\n",
       "      <td>0.688228</td>\n",
       "      <td>2.0</td>\n",
       "      <td>2.0</td>\n",
       "      <td>2.0</td>\n",
       "    </tr>\n",
       "    <tr>\n",
       "      <th>135500</th>\n",
       "      <td>0.256814</td>\n",
       "      <td>0.815855</td>\n",
       "      <td>-0.121531</td>\n",
       "      <td>0.381549</td>\n",
       "      <td>0.415942</td>\n",
       "      <td>0.470863</td>\n",
       "      <td>2.0</td>\n",
       "      <td>2.0</td>\n",
       "      <td>3.0</td>\n",
       "    </tr>\n",
       "  </tbody>\n",
       "</table>\n",
       "<p>135501 rows × 9 columns</p>\n",
       "</div>"
      ],
      "text/plain": [
       "        num_pipeline__carat  num_pipeline__depth  num_pipeline__table  \\\n",
       "0                 -0.975439            -0.849607            -0.121531   \n",
       "1                  0.235195             1.833637            -0.121531   \n",
       "2                  0.494617             0.815855             0.399800   \n",
       "3                 -1.018676             0.260701             0.921131   \n",
       "4                 -0.953821            -0.664555            -0.642862   \n",
       "...                     ...                  ...                  ...   \n",
       "135496            -1.040295            -0.016876            -0.642862   \n",
       "135497             0.991842             0.168176            -0.642862   \n",
       "135498             0.451380             1.556060            -0.642862   \n",
       "135499             0.667565            -1.774863             1.442462   \n",
       "135500             0.256814             0.815855            -0.121531   \n",
       "\n",
       "        num_pipeline__x  num_pipeline__y  num_pipeline__z  cat_pipeline__cut  \\\n",
       "0             -1.042757        -1.080970        -1.123150                2.0   \n",
       "1              0.318447         0.279859         0.485354                3.0   \n",
       "2              0.570855         0.606458         0.673737                0.0   \n",
       "3             -1.214034        -1.244270        -1.195605                0.0   \n",
       "4             -1.069801        -1.044681        -1.094168                2.0   \n",
       "...                 ...              ...              ...                ...   \n",
       "135496        -1.268122        -1.244270        -1.239078                2.0   \n",
       "135497         1.048629         1.114501         1.079486                2.0   \n",
       "135498         0.516768         0.588314         0.702719                3.0   \n",
       "135499         0.868337         0.951202         0.688228                2.0   \n",
       "135500         0.381549         0.415942         0.470863                2.0   \n",
       "\n",
       "        cat_pipeline__color  cat_pipeline__clarity  \n",
       "0                       6.0                    5.0  \n",
       "1                       3.0                    3.0  \n",
       "2                       2.0                    2.0  \n",
       "3                       2.0                    0.0  \n",
       "4                       1.0                    5.0  \n",
       "...                     ...                    ...  \n",
       "135496                  3.0                    3.0  \n",
       "135497                  2.0                    1.0  \n",
       "135498                  2.0                    3.0  \n",
       "135499                  2.0                    2.0  \n",
       "135500                  2.0                    3.0  \n",
       "\n",
       "[135501 rows x 9 columns]"
      ]
     },
     "execution_count": 106,
     "metadata": {},
     "output_type": "execute_result"
    }
   ],
   "source": [
    "X_train"
   ]
  },
  {
   "cell_type": "code",
   "execution_count": 107,
   "id": "e8184ab5",
   "metadata": {},
   "outputs": [
    {
     "data": {
      "text/html": [
       "<div>\n",
       "<style scoped>\n",
       "    .dataframe tbody tr th:only-of-type {\n",
       "        vertical-align: middle;\n",
       "    }\n",
       "\n",
       "    .dataframe tbody tr th {\n",
       "        vertical-align: top;\n",
       "    }\n",
       "\n",
       "    .dataframe thead th {\n",
       "        text-align: right;\n",
       "    }\n",
       "</style>\n",
       "<table border=\"1\" class=\"dataframe\">\n",
       "  <thead>\n",
       "    <tr style=\"text-align: right;\">\n",
       "      <th></th>\n",
       "      <th>num_pipeline__carat</th>\n",
       "      <th>num_pipeline__depth</th>\n",
       "      <th>num_pipeline__table</th>\n",
       "      <th>num_pipeline__x</th>\n",
       "      <th>num_pipeline__y</th>\n",
       "      <th>num_pipeline__z</th>\n",
       "      <th>cat_pipeline__cut</th>\n",
       "      <th>cat_pipeline__color</th>\n",
       "      <th>cat_pipeline__clarity</th>\n",
       "    </tr>\n",
       "  </thead>\n",
       "  <tbody>\n",
       "    <tr>\n",
       "      <th>0</th>\n",
       "      <td>-0.564688</td>\n",
       "      <td>-0.942132</td>\n",
       "      <td>-0.642862</td>\n",
       "      <td>-0.429765</td>\n",
       "      <td>-0.464061</td>\n",
       "      <td>-0.500036</td>\n",
       "      <td>0.0</td>\n",
       "      <td>3.0</td>\n",
       "      <td>0.0</td>\n",
       "    </tr>\n",
       "    <tr>\n",
       "      <th>1</th>\n",
       "      <td>-0.175556</td>\n",
       "      <td>1.000906</td>\n",
       "      <td>-0.121531</td>\n",
       "      <td>-0.042137</td>\n",
       "      <td>-0.028595</td>\n",
       "      <td>0.036132</td>\n",
       "      <td>1.0</td>\n",
       "      <td>5.0</td>\n",
       "      <td>3.0</td>\n",
       "    </tr>\n",
       "    <tr>\n",
       "      <th>2</th>\n",
       "      <td>-1.061913</td>\n",
       "      <td>0.260701</td>\n",
       "      <td>-0.121531</td>\n",
       "      <td>-1.304180</td>\n",
       "      <td>-1.298703</td>\n",
       "      <td>-1.268060</td>\n",
       "      <td>2.0</td>\n",
       "      <td>5.0</td>\n",
       "      <td>4.0</td>\n",
       "    </tr>\n",
       "    <tr>\n",
       "      <th>3</th>\n",
       "      <td>0.970223</td>\n",
       "      <td>-0.201927</td>\n",
       "      <td>1.963794</td>\n",
       "      <td>1.048629</td>\n",
       "      <td>0.996563</td>\n",
       "      <td>0.978049</td>\n",
       "      <td>0.0</td>\n",
       "      <td>2.0</td>\n",
       "      <td>0.0</td>\n",
       "    </tr>\n",
       "    <tr>\n",
       "      <th>4</th>\n",
       "      <td>-0.932202</td>\n",
       "      <td>-1.312235</td>\n",
       "      <td>0.399800</td>\n",
       "      <td>-1.006699</td>\n",
       "      <td>-0.990248</td>\n",
       "      <td>-1.065186</td>\n",
       "      <td>0.0</td>\n",
       "      <td>3.0</td>\n",
       "      <td>2.0</td>\n",
       "    </tr>\n",
       "    <tr>\n",
       "      <th>...</th>\n",
       "      <td>...</td>\n",
       "      <td>...</td>\n",
       "      <td>...</td>\n",
       "      <td>...</td>\n",
       "      <td>...</td>\n",
       "      <td>...</td>\n",
       "      <td>...</td>\n",
       "      <td>...</td>\n",
       "      <td>...</td>\n",
       "    </tr>\n",
       "    <tr>\n",
       "      <th>58067</th>\n",
       "      <td>1.013460</td>\n",
       "      <td>1.185958</td>\n",
       "      <td>-0.642862</td>\n",
       "      <td>1.003556</td>\n",
       "      <td>1.041924</td>\n",
       "      <td>1.151941</td>\n",
       "      <td>1.0</td>\n",
       "      <td>5.0</td>\n",
       "      <td>0.0</td>\n",
       "    </tr>\n",
       "    <tr>\n",
       "      <th>58068</th>\n",
       "      <td>-0.997058</td>\n",
       "      <td>0.260701</td>\n",
       "      <td>-1.164193</td>\n",
       "      <td>-1.141917</td>\n",
       "      <td>-1.126331</td>\n",
       "      <td>-1.108659</td>\n",
       "      <td>2.0</td>\n",
       "      <td>0.0</td>\n",
       "      <td>6.0</td>\n",
       "    </tr>\n",
       "    <tr>\n",
       "      <th>58069</th>\n",
       "      <td>-0.197174</td>\n",
       "      <td>-3.347799</td>\n",
       "      <td>1.442462</td>\n",
       "      <td>0.102096</td>\n",
       "      <td>0.071199</td>\n",
       "      <td>-0.224706</td>\n",
       "      <td>0.0</td>\n",
       "      <td>1.0</td>\n",
       "      <td>0.0</td>\n",
       "    </tr>\n",
       "    <tr>\n",
       "      <th>58070</th>\n",
       "      <td>-0.824110</td>\n",
       "      <td>-0.201927</td>\n",
       "      <td>-0.121531</td>\n",
       "      <td>-0.853450</td>\n",
       "      <td>-0.881382</td>\n",
       "      <td>-0.876803</td>\n",
       "      <td>2.0</td>\n",
       "      <td>2.0</td>\n",
       "      <td>3.0</td>\n",
       "    </tr>\n",
       "    <tr>\n",
       "      <th>58071</th>\n",
       "      <td>2.613227</td>\n",
       "      <td>-0.757081</td>\n",
       "      <td>1.442462</td>\n",
       "      <td>2.139394</td>\n",
       "      <td>2.039865</td>\n",
       "      <td>2.006912</td>\n",
       "      <td>0.0</td>\n",
       "      <td>1.0</td>\n",
       "      <td>0.0</td>\n",
       "    </tr>\n",
       "  </tbody>\n",
       "</table>\n",
       "<p>58072 rows × 9 columns</p>\n",
       "</div>"
      ],
      "text/plain": [
       "       num_pipeline__carat  num_pipeline__depth  num_pipeline__table  \\\n",
       "0                -0.564688            -0.942132            -0.642862   \n",
       "1                -0.175556             1.000906            -0.121531   \n",
       "2                -1.061913             0.260701            -0.121531   \n",
       "3                 0.970223            -0.201927             1.963794   \n",
       "4                -0.932202            -1.312235             0.399800   \n",
       "...                    ...                  ...                  ...   \n",
       "58067             1.013460             1.185958            -0.642862   \n",
       "58068            -0.997058             0.260701            -1.164193   \n",
       "58069            -0.197174            -3.347799             1.442462   \n",
       "58070            -0.824110            -0.201927            -0.121531   \n",
       "58071             2.613227            -0.757081             1.442462   \n",
       "\n",
       "       num_pipeline__x  num_pipeline__y  num_pipeline__z  cat_pipeline__cut  \\\n",
       "0            -0.429765        -0.464061        -0.500036                0.0   \n",
       "1            -0.042137        -0.028595         0.036132                1.0   \n",
       "2            -1.304180        -1.298703        -1.268060                2.0   \n",
       "3             1.048629         0.996563         0.978049                0.0   \n",
       "4            -1.006699        -0.990248        -1.065186                0.0   \n",
       "...                ...              ...              ...                ...   \n",
       "58067         1.003556         1.041924         1.151941                1.0   \n",
       "58068        -1.141917        -1.126331        -1.108659                2.0   \n",
       "58069         0.102096         0.071199        -0.224706                0.0   \n",
       "58070        -0.853450        -0.881382        -0.876803                2.0   \n",
       "58071         2.139394         2.039865         2.006912                0.0   \n",
       "\n",
       "       cat_pipeline__color  cat_pipeline__clarity  \n",
       "0                      3.0                    0.0  \n",
       "1                      5.0                    3.0  \n",
       "2                      5.0                    4.0  \n",
       "3                      2.0                    0.0  \n",
       "4                      3.0                    2.0  \n",
       "...                    ...                    ...  \n",
       "58067                  5.0                    0.0  \n",
       "58068                  0.0                    6.0  \n",
       "58069                  1.0                    0.0  \n",
       "58070                  2.0                    3.0  \n",
       "58071                  1.0                    0.0  \n",
       "\n",
       "[58072 rows x 9 columns]"
      ]
     },
     "execution_count": 107,
     "metadata": {},
     "output_type": "execute_result"
    }
   ],
   "source": [
    "X_test"
   ]
  }
 ],
 "metadata": {
  "kernelspec": {
   "display_name": "Python 3",
   "language": "python",
   "name": "python3"
  },
  "language_info": {
   "codemirror_mode": {
    "name": "ipython",
    "version": 3
   },
   "file_extension": ".py",
   "mimetype": "text/x-python",
   "name": "python",
   "nbconvert_exporter": "python",
   "pygments_lexer": "ipython3",
   "version": "3.8.20"
  }
 },
 "nbformat": 4,
 "nbformat_minor": 5
}
